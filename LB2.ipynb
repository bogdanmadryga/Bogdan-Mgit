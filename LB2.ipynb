{
  "nbformat": 4,
  "nbformat_minor": 0,
  "metadata": {
    "colab": {
      "provenance": [],
      "authorship_tag": "ABX9TyPGIpwmTy2UrEczdsUJBokb",
      "include_colab_link": true
    },
    "kernelspec": {
      "name": "python3",
      "display_name": "Python 3"
    },
    "language_info": {
      "name": "python"
    }
  },
  "cells": [
    {
      "cell_type": "markdown",
      "metadata": {
        "id": "view-in-github",
        "colab_type": "text"
      },
      "source": [
        "<a href=\"https://colab.research.google.com/github/bogdanmadryga/Bogdan-Mgit/blob/main/LB2.ipynb\" target=\"_parent\"><img src=\"https://colab.research.google.com/assets/colab-badge.svg\" alt=\"Open In Colab\"/></a>"
      ]
    },
    {
      "cell_type": "code",
      "execution_count": null,
      "metadata": {
        "id": "I9SRb_vQvzji"
      },
      "outputs": [],
      "source": [
        "import numpy as np\n",
        "\n",
        "def f(x): #Писати формулу тут\n",
        "   return 3*pow(x, 4) + 2*pow(x, 3) + pow(x, 2) + x - 5\n",
        "\n",
        "def find_segments(): #відокремлюємо проміжки коренів\n",
        "    search_range = np.arange(-100, 100, 1)\n",
        "\n",
        "    previous_x = None\n",
        "    segments = []\n",
        "\n",
        "    for x in search_range:\n",
        "        x = round(x, 4) #Не впевнений у призначенні рядка через відсутність Debug режиму та Breakpoints\n",
        "        current_x = f(x)\n",
        "        if previous_x != None and previous_x * current_x < 0: # Перевірка на зміну\n",
        "            segments.append((a, x))\n",
        "        a = x\n",
        "        previous_x = current_x\n",
        "    return segments\n",
        "\n",
        "def rec(a, b, eps): #метод половинного ділення\n",
        "    while (abs(a-b) > eps):\n",
        "        if (f(a) * f((a+b)/2) < 0):\n",
        "            b = (a+b)/2\n",
        "        else:\n",
        "            a = (a+b)/2\n",
        "        x = (a+b)/2\n",
        "\n",
        "    print ('x= ', round(x,5), '  - Half division method')\n",
        "\n",
        "def hord (a,b,eps): #метод хорд\n",
        "  if (f(a) *  ((f(a+eps) - 2*f(a) + f(a-eps)) / (eps**2)) > 0):\n",
        "      x0, xi = a, b\n",
        "  else:\n",
        "      x0, xi = b, a\n",
        "  xi_1 = xi-(xi-x0) * f(xi) / (f(xi)-f(x0))\n",
        "  while (abs(xi_1-xi) > eps):\n",
        "      xi = xi_1\n",
        "      xi_1 = xi-(xi-x0) * f(xi) / (f(xi)-f(x0))\n",
        "  print('x= ', round (xi_1,5) , '  - Chord method')\n",
        "\n",
        "eps=0.0001\n",
        "segments = find_segments()\n",
        "print(segments)\n",
        "counter = 0\n",
        "\n",
        "for a, b in segments:\n",
        "  print ('Solution of a nonlinear equation on a segment ', segments[counter])\n",
        "  rec (a,b,eps) #викликаємо метод пол. ділення\n",
        "  hord (a,b,eps) #викликаємо метод хорд\n",
        "  counter += 1"
      ]
    },
    {
      "cell_type": "code",
      "source": [],
      "metadata": {
        "id": "eF_Os6Zav0LX"
      },
      "execution_count": null,
      "outputs": []
    }
  ]
}