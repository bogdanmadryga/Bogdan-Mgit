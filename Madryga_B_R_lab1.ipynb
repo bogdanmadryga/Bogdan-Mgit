{
  "nbformat": 4,
  "nbformat_minor": 0,
  "metadata": {
    "colab": {
      "provenance": [],
      "authorship_tag": "ABX9TyPeYkQubecWJJLk2Q+BtrZH",
      "include_colab_link": true
    },
    "kernelspec": {
      "name": "python3",
      "display_name": "Python 3"
    },
    "language_info": {
      "name": "python"
    }
  },
  "cells": [
    {
      "cell_type": "markdown",
      "metadata": {
        "id": "view-in-github",
        "colab_type": "text"
      },
      "source": [
        "<a href=\"https://colab.research.google.com/github/bogdanmadryga/Bogdan-Mgit/blob/main/Madryga_B_R_lab1.ipynb\" target=\"_parent\"><img src=\"https://colab.research.google.com/assets/colab-badge.svg\" alt=\"Open In Colab\"/></a>"
      ]
    },
    {
      "cell_type": "markdown",
      "source": [
        "1. Створіть одновимірний масив (вектор) з перших 10 піднесених до квадрату\n",
        "# натуральних чисел та виведіть його значення."
      ],
      "metadata": {
        "id": "cRUrhj3-aESN"
      }
    },
    {
      "cell_type": "code",
      "source": [
        "import numpy as np\n",
        "\n",
        "numbers = np.arange(1, 11)\n",
        "squares = numbers ** 2\n",
        "\n",
        "print(squares)"
      ],
      "metadata": {
        "colab": {
          "base_uri": "https://localhost:8080/"
        },
        "id": "7w8DN7ovaFRw",
        "outputId": "4990aba5-540a-4141-9c9e-3827f39d723d"
      },
      "execution_count": 5,
      "outputs": [
        {
          "output_type": "stream",
          "name": "stdout",
          "text": [
            "[  1   4   9  16  25  36  49  64  81 100]\n"
          ]
        }
      ]
    },
    {
      "cell_type": "markdown",
      "source": [
        "2. Створіть двовимірний масив (матрицю) розміром 3x3, заповніть його значеннями\n",
        "квадратних коренів від кожного натурального числа, починаючи з 1, та виведіть його\n",
        "значення."
      ],
      "metadata": {
        "id": "QweVGYsXa2kl"
      }
    },
    {
      "cell_type": "code",
      "source": [
        "import numpy as np\n",
        "\n",
        "matrix = np.sqrt(np.arange(1, 10)).reshape(3, 3)\n",
        "\n",
        "print(matrix)"
      ],
      "metadata": {
        "colab": {
          "base_uri": "https://localhost:8080/"
        },
        "id": "h5u0QuYoa8DP",
        "outputId": "48bcde5a-64c0-45d9-fda6-0cc83180a217"
      },
      "execution_count": 6,
      "outputs": [
        {
          "output_type": "stream",
          "name": "stdout",
          "text": [
            "[[1.         1.41421356 1.73205081]\n",
            " [2.         2.23606798 2.44948974]\n",
            " [2.64575131 2.82842712 3.        ]]\n"
          ]
        }
      ]
    },
    {
      "cell_type": "markdown",
      "source": [
        "3. Створіть масив розміром 3x3, заповніть його випадковими цілими числами в діапазоні\n",
        "від 0 до 5 та виведіть його значення.\n"
      ],
      "metadata": {
        "id": "r46PYahUa-SQ"
      }
    },
    {
      "cell_type": "code",
      "source": [
        "import numpy as np\n",
        "\n",
        "matrix = np.random.randint(0, 6, size=(3, 3))\n",
        "\n",
        "print(matrix)\n"
      ],
      "metadata": {
        "colab": {
          "base_uri": "https://localhost:8080/"
        },
        "id": "Jx6xj1VwbEL3",
        "outputId": "a81baf1e-fbd3-47c2-f597-889715a685bb"
      },
      "execution_count": 7,
      "outputs": [
        {
          "output_type": "stream",
          "name": "stdout",
          "text": [
            "[[5 2 3]\n",
            " [3 1 5]\n",
            " [3 4 4]]\n"
          ]
        }
      ]
    },
    {
      "cell_type": "markdown",
      "source": [
        "4. Створіть масив розміром 5x5, заповніть його випадковими дійсними числами в\n",
        "діапазоні від 0 до 1 та обчисліть суму елементів, які менше середнього значення.\n"
      ],
      "metadata": {
        "id": "JuTnSedybKZe"
      }
    },
    {
      "cell_type": "code",
      "source": [
        "import numpy as np\n",
        "\n",
        "matrix = np.random.random((5, 5))\n",
        "\n",
        "mean_value = matrix.mean()\n",
        "sum_below_mean = matrix[matrix < mean_value].sum()\n",
        "\n",
        "print(\"Масив:\")\n",
        "print(matrix)\n",
        "print(\"Сума елементів, які менші за середнє значення:\", sum_below_mean)\n"
      ],
      "metadata": {
        "colab": {
          "base_uri": "https://localhost:8080/"
        },
        "id": "zNIOY4AVbLfg",
        "outputId": "6b0b53d1-4861-4190-ebb3-2000c6e6c00a"
      },
      "execution_count": 8,
      "outputs": [
        {
          "output_type": "stream",
          "name": "stdout",
          "text": [
            "Масив:\n",
            "[[0.52891632 0.15324449 0.8093473  0.38903353 0.87615036]\n",
            " [0.81676606 0.09874728 0.66227826 0.57612933 0.70804153]\n",
            " [0.82091739 0.86974958 0.04693577 0.62599417 0.82553061]\n",
            " [0.30499875 0.03429776 0.87383731 0.15133091 0.56638114]\n",
            " [0.8426873  0.68302692 0.44753669 0.33616752 0.84961226]]\n",
            "Сума елементів, які менші за середнє значення: 2.491209007129262\n"
          ]
        }
      ]
    },
    {
      "cell_type": "markdown",
      "source": [
        "5. Створіть два одновимірних масиви розміром 5, заповніть їх випадковими цілими\n",
        "числами від 1 до 30 та виконайте на них поелементні операції додавання, віднімання\n",
        "та множення.\n"
      ],
      "metadata": {
        "id": "IeCFpAVSbWBT"
      }
    },
    {
      "cell_type": "code",
      "source": [
        "import numpy as np\n",
        "\n",
        "array1 = np.random.randint(1, 31, size=5)\n",
        "array2 = np.random.randint(1, 31, size=5)\n",
        "\n",
        "sum_result = array1 + array2\n",
        "difference_result = array1 - array2\n",
        "multiplication_result = array1 * array2\n",
        "\n",
        "print(\"Масив 1:\", array1)\n",
        "print(\"Масив 2:\", array2)\n",
        "print(\"Сума масивів:\", sum_result)\n",
        "print(\"Різниця масивів:\", difference_result)\n",
        "print(\"Множення масивів:\", multiplication_result)\n"
      ],
      "metadata": {
        "colab": {
          "base_uri": "https://localhost:8080/"
        },
        "id": "L-PEt7Nvbc3q",
        "outputId": "b7e862df-9331-4598-899a-9ad7f4df15ce"
      },
      "execution_count": 9,
      "outputs": [
        {
          "output_type": "stream",
          "name": "stdout",
          "text": [
            "Масив 1: [26 12 11 22 29]\n",
            "Масив 2: [ 4 10 26 17  5]\n",
            "Сума масивів: [30 22 37 39 34]\n",
            "Різниця масивів: [ 22   2 -15   5  24]\n",
            "Множення масивів: [104 120 286 374 145]\n"
          ]
        }
      ]
    },
    {
      "cell_type": "markdown",
      "source": [
        "6. Створіть дві матриці 3x3, заповніть їх довільними дійсними числами від 0 до 1 та\n",
        "знайдіть їх добуток.\n"
      ],
      "metadata": {
        "id": "uc1fL6YebhZ5"
      }
    },
    {
      "cell_type": "code",
      "source": [
        "import numpy as np\n",
        "\n",
        "matrix1 = np.random.random((3, 3))\n",
        "matrix2 = np.random.random((3, 3))\n",
        "\n",
        "product = np.dot(matrix1, matrix2)\n",
        "\n",
        "print(\"Матриця 1:\")\n",
        "print(matrix1)\n",
        "print(\"Матриця 2:\")\n",
        "print(matrix2)\n",
        "print(\"Добуток матриць:\")\n",
        "print(product)\n"
      ],
      "metadata": {
        "colab": {
          "base_uri": "https://localhost:8080/"
        },
        "id": "eZ8xwsLXblpx",
        "outputId": "3ed75d8a-240e-4028-8340-a39f908cb6ad"
      },
      "execution_count": 10,
      "outputs": [
        {
          "output_type": "stream",
          "name": "stdout",
          "text": [
            "Матриця 1:\n",
            "[[0.86468639 0.56164696 0.47304304]\n",
            " [0.21983309 0.36665841 0.22508365]\n",
            " [0.54060024 0.06780147 0.26459319]]\n",
            "Матриця 2:\n",
            "[[0.76666205 0.7082875  0.25146064]\n",
            " [0.90724259 0.45599892 0.18432283]\n",
            " [0.77200963 0.05114234 0.61642288]]\n",
            "Добуток матриць:\n",
            "[[1.53766606 0.8927495  0.6125535 ]\n",
            " [0.67495256 0.33441217 0.2616096 ]\n",
            " [0.68023856 0.42734971 0.31153834]]\n"
          ]
        }
      ]
    },
    {
      "cell_type": "markdown",
      "source": [
        "7. Створіть дві матриці розміром 2x3 та 3x2, заповніть їх випадковими цілими числами\n",
        "в діапазоні від 1 до 5 та перемножте їх між собою."
      ],
      "metadata": {
        "id": "JTUINyahbptx"
      }
    },
    {
      "cell_type": "code",
      "source": [
        "import numpy as np\n",
        "\n",
        "matrix1 = np.random.randint(1, 6, size=(2, 3))\n",
        "matrix2 = np.random.randint(1, 6, size=(3, 2))\n",
        "\n",
        "product = np.dot(matrix1, matrix2)\n",
        "\n",
        "print(\"Матриця 1 (2x3):\")\n",
        "print(matrix1)\n",
        "print(\"Матриця 2 (3x2):\")\n",
        "print(matrix2)\n",
        "print(\"Добуток матриць:\")\n",
        "print(product)\n"
      ],
      "metadata": {
        "colab": {
          "base_uri": "https://localhost:8080/"
        },
        "id": "1O8KMloNbu20",
        "outputId": "523b664b-c366-4266-af74-2371bb051271"
      },
      "execution_count": 11,
      "outputs": [
        {
          "output_type": "stream",
          "name": "stdout",
          "text": [
            "Матриця 1 (2x3):\n",
            "[[5 2 1]\n",
            " [3 5 4]]\n",
            "Матриця 2 (3x2):\n",
            "[[1 3]\n",
            " [2 3]\n",
            " [4 3]]\n",
            "Добуток матриць:\n",
            "[[13 24]\n",
            " [29 36]]\n"
          ]
        }
      ]
    },
    {
      "cell_type": "markdown",
      "source": [
        "8. Створіть матрицю розміром 3x3, заповніть її випадковими цілими числами в діапазоні\n",
        "від 1 до 10 та знайдіть її обернену матрицю.\n"
      ],
      "metadata": {
        "id": "6w363WVlbv2M"
      }
    },
    {
      "cell_type": "code",
      "source": [
        "import numpy as np\n",
        "\n",
        "matrix = np.random.randint(1, 11, size=(3, 3))\n",
        "\n",
        "# Перевірка на те, чи матриця невироджена (має обернену матрицю)\n",
        "if np.linalg.det(matrix) != 0:\n",
        "    inverse_matrix = np.linalg.inv(matrix)\n",
        "    print(\"Матриця:\")\n",
        "    print(matrix)\n",
        "    print(\"Обернена матриця:\")\n",
        "    print(inverse_matrix)\n",
        "else:\n",
        "    print(\"Матриця невироджена, обернену матрицю не знайдено.\")\n"
      ],
      "metadata": {
        "colab": {
          "base_uri": "https://localhost:8080/"
        },
        "id": "WeyrR5arb0iR",
        "outputId": "9c52494a-6968-451e-f9c7-7f5104899607"
      },
      "execution_count": 12,
      "outputs": [
        {
          "output_type": "stream",
          "name": "stdout",
          "text": [
            "Матриця:\n",
            "[[1 6 8]\n",
            " [7 6 7]\n",
            " [5 6 5]]\n",
            "Обернена матриця:\n",
            "[[-1.42857143e-01  2.14285714e-01 -7.14285714e-02]\n",
            " [-4.31753398e-17 -4.16666667e-01  5.83333333e-01]\n",
            " [ 1.42857143e-01  2.85714286e-01 -4.28571429e-01]]\n"
          ]
        }
      ]
    },
    {
      "cell_type": "markdown",
      "source": [
        "9. Створіть матрицю розміром 5x5, заповніть її випадковими дійсними числами в\n",
        "діапазоні від 0 до 1 та транспонуйте її.\n"
      ],
      "metadata": {
        "id": "f57TNEI6b2XD"
      }
    },
    {
      "cell_type": "code",
      "source": [
        "import numpy as np\n",
        "\n",
        "matrix = np.random.random((5, 5))\n",
        "\n",
        "transposed_matrix = matrix.T\n",
        "\n",
        "print(\"Матриця:\")\n",
        "print(matrix)\n",
        "print(\"Транспонована матриця:\")\n",
        "print(transposed_matrix)\n"
      ],
      "metadata": {
        "colab": {
          "base_uri": "https://localhost:8080/"
        },
        "id": "XdFoDIC8b6A6",
        "outputId": "f628450b-98b3-4853-efa1-c1eaec229219"
      },
      "execution_count": 13,
      "outputs": [
        {
          "output_type": "stream",
          "name": "stdout",
          "text": [
            "Матриця:\n",
            "[[0.89764335 0.21267689 0.92506305 0.91793652 0.07633334]\n",
            " [0.54659327 0.30457726 0.70572    0.2564768  0.51169726]\n",
            " [0.81684472 0.70955744 0.55564187 0.50783334 0.60620203]\n",
            " [0.58915978 0.77450929 0.82706739 0.93299156 0.6046135 ]\n",
            " [0.39708703 0.18555253 0.83664627 0.80164828 0.46870409]]\n",
            "Транспонована матриця:\n",
            "[[0.89764335 0.54659327 0.81684472 0.58915978 0.39708703]\n",
            " [0.21267689 0.30457726 0.70955744 0.77450929 0.18555253]\n",
            " [0.92506305 0.70572    0.55564187 0.82706739 0.83664627]\n",
            " [0.91793652 0.2564768  0.50783334 0.93299156 0.80164828]\n",
            " [0.07633334 0.51169726 0.60620203 0.6046135  0.46870409]]\n"
          ]
        }
      ]
    },
    {
      "cell_type": "markdown",
      "source": [
        "10. Створіть матрицю розміром 3x4 та вектор розміром 4x1, заповніть матрицю\n",
        "випадковими цілими числами в діапазоні від -5 до 5, а вектор - випадковими дійсними\n",
        "числами від 0 до 1 і знайдіть добуток матриці на вектор.\n"
      ],
      "metadata": {
        "id": "KB8zKvVWb-La"
      }
    },
    {
      "cell_type": "code",
      "source": [
        "import numpy as np\n",
        "\n",
        "matrix = np.random.randint(-5, 6, size=(3, 4))  # Матриця 3x4 з цілими числами в діапазоні від -5 до 5\n",
        "vector = np.random.random((4, 1))  # Вектор 4x1 з дійсними числами в діапазоні від 0 до 1\n",
        "\n",
        "product = np.dot(matrix, vector)  # Добуток матриці та вектора\n",
        "\n",
        "print(\"Матриця:\")\n",
        "print(matrix)\n",
        "print(\"Вектор:\")\n",
        "print(vector)\n",
        "print(\"Добуток матриці та вектора:\")\n",
        "print(product)\n"
      ],
      "metadata": {
        "colab": {
          "base_uri": "https://localhost:8080/"
        },
        "id": "uDrMArdVcFeK",
        "outputId": "d916ccbd-3878-4d17-d211-2f7b86ba51e6"
      },
      "execution_count": 14,
      "outputs": [
        {
          "output_type": "stream",
          "name": "stdout",
          "text": [
            "Матриця:\n",
            "[[-1  0  4  3]\n",
            " [-1  1 -1  3]\n",
            " [ 3 -2  1  1]]\n",
            "Вектор:\n",
            "[[0.92156467]\n",
            " [0.62925149]\n",
            " [0.17667933]\n",
            " [0.61775765]]\n",
            "Добуток матриці та вектора:\n",
            "[[1.63842562]\n",
            " [1.38428044]\n",
            " [2.30062802]]\n"
          ]
        }
      ]
    },
    {
      "cell_type": "markdown",
      "source": [
        "11. Створіть матрицю розміром 2x3 та вектор розміром 3x1, заповніть матрицю\n",
        "випадковими дійсними числами від 0 до 1, а вектор - випадковими дійсними числами\n",
        "від 0 до 1, і знайдіть добуток матриці на вектор."
      ],
      "metadata": {
        "id": "Hd6kWEHpcGUI"
      }
    },
    {
      "cell_type": "code",
      "source": [
        "import numpy as np\n",
        "\n",
        "matrix = np.random.random((2, 3))  # Матриця 2x3 з дійсними числами від 0 до 1\n",
        "vector = np.random.random((3, 1))  # Вектор 3x1 з дійсними числами від 0 до 1\n",
        "\n",
        "product = np.dot(matrix, vector)  # Добуток матриці та вектора\n",
        "\n",
        "print(\"Матриця:\")\n",
        "print(matrix)\n",
        "print(\"Вектор:\")\n",
        "print(vector)\n",
        "print(\"Добуток матриці та вектора:\")\n",
        "print(product)\n"
      ],
      "metadata": {
        "colab": {
          "base_uri": "https://localhost:8080/"
        },
        "id": "RZzifzuIcJXj",
        "outputId": "a1438bdc-18b5-4ace-ba10-02e256e6f24f"
      },
      "execution_count": 15,
      "outputs": [
        {
          "output_type": "stream",
          "name": "stdout",
          "text": [
            "Матриця:\n",
            "[[0.23441627 0.09283332 0.50486841]\n",
            " [0.72049456 0.99619988 0.46140354]]\n",
            "Вектор:\n",
            "[[0.36603635]\n",
            " [0.20479061]\n",
            " [0.34534956]]\n",
            "Добуток матриці та вектора:\n",
            "[[0.27917235]\n",
            " [0.62708509]]\n"
          ]
        }
      ]
    },
    {
      "cell_type": "markdown",
      "source": [
        "12.Створіть дві матриці розміром 3x3, заповніть їх випадковими цілими числами в\n",
        "діапазоні від 1 до 10 та знайдіть суму всіх елементів обох матриць."
      ],
      "metadata": {
        "id": "wkzDqLtjcMNb"
      }
    },
    {
      "cell_type": "code",
      "source": [
        "import numpy as np\n",
        "\n",
        "matrix1 = np.random.randint(1, 11, size=(3, 3))  # Перша матриця 3x3 з цілими числами від 1 до 10\n",
        "matrix2 = np.random.randint(1, 11, size=(3, 3))  # Друга матриця 3x3 з цілими числами від 1 до 10\n",
        "\n",
        "sum_matrix1 = matrix1.sum()  # Сума елементів першої матриці\n",
        "sum_matrix2 = matrix2.sum()  # Сума елементів другої матриці\n",
        "\n",
        "total_sum = sum_matrix1 + sum_matrix2  # Сума всіх елементів обох матриць\n",
        "\n",
        "print(\"Матриця 1:\")\n",
        "print(matrix1)\n",
        "print(\"Сума елементів першої матриці:\", sum_matrix1)\n",
        "print(\"Матриця 2:\")\n",
        "print(matrix2)\n",
        "print(\"Сума елементів другої матриці:\", sum_matrix2)\n",
        "print(\"Сума всіх елементів обох матриць:\", total_sum)\n"
      ],
      "metadata": {
        "colab": {
          "base_uri": "https://localhost:8080/"
        },
        "id": "5_s7jl0wcPzn",
        "outputId": "eee09b47-34f2-4bc9-ce40-6368c157cf8a"
      },
      "execution_count": 16,
      "outputs": [
        {
          "output_type": "stream",
          "name": "stdout",
          "text": [
            "Матриця 1:\n",
            "[[10  5  1]\n",
            " [ 8  2  7]\n",
            " [ 9  4  1]]\n",
            "Сума елементів першої матриці: 47\n",
            "Матриця 2:\n",
            "[[1 3 1]\n",
            " [3 5 8]\n",
            " [4 1 3]]\n",
            "Сума елементів другої матриці: 29\n",
            "Сума всіх елементів обох матриць: 76\n"
          ]
        }
      ]
    },
    {
      "cell_type": "markdown",
      "source": [
        "13. Створіть дві матриці розміром 2x2, заповніть їх випадковими цілими числами в\n",
        "діапазоні від 1 до 10 та знайдіть різницю їх елементів.\n"
      ],
      "metadata": {
        "id": "s0CFpRGbcY3i"
      }
    },
    {
      "cell_type": "code",
      "source": [
        "import numpy as np\n",
        "\n",
        "matrix1 = np.random.randint(1, 11, size=(2, 2))  # Перша матриця 2x2 з цілими числами від 1 до 10\n",
        "matrix2 = np.random.randint(1, 11, size=(2, 2))  # Друга матриця 2x2 з цілими числами від 1 до 10\n",
        "\n",
        "difference = matrix1 - matrix2  # Різниця між елементами двох матриць\n",
        "\n",
        "print(\"Матриця 1:\")\n",
        "print(matrix1)\n",
        "print(\"Матриця 2:\")\n",
        "print(matrix2)\n",
        "print(\"Різниця матриць:\")\n",
        "print(difference)\n"
      ],
      "metadata": {
        "colab": {
          "base_uri": "https://localhost:8080/"
        },
        "id": "PJlWtIHcceyI",
        "outputId": "783639d5-6cfa-4379-d5c8-7e81ed440041"
      },
      "execution_count": 17,
      "outputs": [
        {
          "output_type": "stream",
          "name": "stdout",
          "text": [
            "Матриця 1:\n",
            "[[4 2]\n",
            " [5 2]]\n",
            "Матриця 2:\n",
            "[[5 5]\n",
            " [7 7]]\n",
            "Різниця матриць:\n",
            "[[-1 -3]\n",
            " [-2 -5]]\n"
          ]
        }
      ]
    },
    {
      "cell_type": "markdown",
      "source": [
        "14. Створіть матрицю розміром 3x3, заповніть її випадковими цілими числами в діапазоні\n",
        "від 1 до 5 та знайдіть кількість парних елементів матриці."
      ],
      "metadata": {
        "id": "guBd3lSsch_3"
      }
    },
    {
      "cell_type": "code",
      "source": [
        "import numpy as np\n",
        "\n",
        "matrix = np.random.randint(1, 6, size=(3, 3))  # Матриця 3x3 з цілими числами від 1 до 5\n",
        "\n",
        "# Підрахунок парних елементів\n",
        "even_count = np.count_nonzero(matrix % 2 == 0)\n",
        "\n",
        "print(\"Матриця:\")\n",
        "print(matrix)\n",
        "print(\"Кількість парних елементів:\", even_count)\n"
      ],
      "metadata": {
        "colab": {
          "base_uri": "https://localhost:8080/"
        },
        "id": "-jVfSGXPcmSf",
        "outputId": "b0d7f2fb-4091-4265-9309-05e62719f188"
      },
      "execution_count": 18,
      "outputs": [
        {
          "output_type": "stream",
          "name": "stdout",
          "text": [
            "Матриця:\n",
            "[[1 2 4]\n",
            " [1 5 4]\n",
            " [2 1 3]]\n",
            "Кількість парних елементів: 4\n"
          ]
        }
      ]
    },
    {
      "cell_type": "markdown",
      "source": [
        "15. Створіть матрицю розміром 4x4, заповніть її випадковими дійсними числами в\n",
        "діапазоні від -1 до 1 та знайдіть вектор-стовпчик, що містить суму кубів елементів\n",
        "кожного рядка матриці."
      ],
      "metadata": {
        "id": "xpBKVOU-cp8P"
      }
    },
    {
      "cell_type": "code",
      "source": [
        "import numpy as np\n",
        "\n",
        "matrix = np.random.uniform(-1, 1, size=(4, 4))  # Матриця 4x4 з дійсними числами від -1 до 1\n",
        "\n",
        "# Обчислення суми кубів елементів кожного рядка\n",
        "sum_of_cubes = np.sum(matrix**3, axis=1)\n",
        "\n",
        "print(\"Матриця:\")\n",
        "print(matrix)\n",
        "print(\"Вектор-стовпчик з сумою кубів елементів кожного рядка:\")\n",
        "print(sum_of_cubes)\n"
      ],
      "metadata": {
        "colab": {
          "base_uri": "https://localhost:8080/"
        },
        "id": "1KCsaQITcurt",
        "outputId": "4b1178ed-48a6-4fd5-a2da-cc2063141340"
      },
      "execution_count": 19,
      "outputs": [
        {
          "output_type": "stream",
          "name": "stdout",
          "text": [
            "Матриця:\n",
            "[[ 0.67979088 -0.09862688  0.38316796  0.2238155 ]\n",
            " [ 0.82754019 -0.69005798 -0.24292086 -0.7256458 ]\n",
            " [ 0.58761773  0.5159829  -0.7103416  -0.14338183]\n",
            " [-0.61280336  0.79872557 -0.07933256  0.32835743]]\n",
            "Вектор-стовпчик з сумою кубів елементів кожного рядка:\n",
            "[ 0.38065014 -0.15830573 -0.02109987  0.31433595]\n"
          ]
        }
      ]
    }
  ]
}