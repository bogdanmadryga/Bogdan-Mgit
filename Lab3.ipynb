{
  "nbformat": 4,
  "nbformat_minor": 0,
  "metadata": {
    "colab": {
      "provenance": [],
      "authorship_tag": "ABX9TyMC0sX5JnkeC/Jpz7nn+eon",
      "include_colab_link": true
    },
    "kernelspec": {
      "name": "python3",
      "display_name": "Python 3"
    },
    "language_info": {
      "name": "python"
    }
  },
  "cells": [
    {
      "cell_type": "markdown",
      "metadata": {
        "id": "view-in-github",
        "colab_type": "text"
      },
      "source": [
        "<a href=\"https://colab.research.google.com/github/bogdanmadryga/Bogdan-Mgit/blob/main/Lab3.ipynb\" target=\"_parent\"><img src=\"https://colab.research.google.com/assets/colab-badge.svg\" alt=\"Open In Colab\"/></a>"
      ]
    },
    {
      "cell_type": "code",
      "execution_count": 1,
      "metadata": {
        "colab": {
          "base_uri": "https://localhost:8080/"
        },
        "id": "4OycPKjR4_wF",
        "outputId": "becb70d2-7833-4f2e-c8e1-1a57eed90ca1"
      },
      "outputs": [
        {
          "output_type": "stream",
          "name": "stdout",
          "text": [
            "Розв'язок методом Ньютона: 0.8916034506886681\n"
          ]
        }
      ],
      "source": [
        "def f(x):\n",
        "    return 3*x**4 + 2*x**3 + x**2 + x - 5\n",
        "def f_derivative(x):\n",
        "    return 12*x**3 + 6*x**2 + 2*x + 1\n",
        "def newton_method(x0, tol):\n",
        "    while abs(f(x0)) > tol:\n",
        "        x0 = x0 - f(x0) / f_derivative(x0)\n",
        "    return x0\n",
        "initial_guess = 1  # Початкове наближення\n",
        "tolerance = 0.0001  # Точність\n",
        "root = newton_method(initial_guess, tolerance)\n",
        "print(\"Розв'язок методом Ньютона:\", root)"
      ]
    },
    {
      "cell_type": "code",
      "source": [
        "def(x):\n",
        "    return 3*x**4 + 2*x**3 + x**2 + x - 5\n",
        "def f_derivative(x):\n",
        "    return 12*x**3 + 6*x**2 + 2*x + 1\n",
        "def combined_method(x0, tol, max_iterations=100):\n",
        "    # Початок з методу половинного ділення\n",
        "    a, b = x0 - 1, x0 + 1\n",
        "    if f(a) * f(b) >= 0:\n",
        "        print(\"Умова теореми про існування кореня не виконується.\")\n",
        "        return None\n",
        "    for _ in range(max_iterations):\n",
        "        midpoint = (a + b) / 2.0\n",
        "        if abs(f(midpoint)) < tol:\n",
        "            return midpoint\n",
        "        elif f(midpoint) * f(a) < 0:\n",
        "            b = midpoint\n",
        "        else:\n",
        "            a = midpoint\n",
        "    # Перехід до методу Ньютона\n",
        "    while abs(f(x0)) > tol:\n",
        "        x0 = x0 - f(x0) / f_derivative(x0)\n",
        "    return x0\n",
        "initial_guess = 1  # Початкове наближення\n",
        "tolerance = 0.0001  # Точність\n",
        "root = combined_method(initial_guess, tolerance)\n",
        "print(\"Розв'язок комбінованим методом:\", root)\n"
      ],
      "metadata": {
        "id": "kWAAyOmG5J0K"
      },
      "execution_count": null,
      "outputs": []
    },
    {
      "cell_type": "code",
      "source": [
        "def f(x):\n",
        "    return 3*x**4 + 2*x**3 + x**2 + x - 5\n",
        "\n",
        "def f_derivative(x):\n",
        "    return 12*x**3 + 6*x**2 + 2*x + 1\n",
        "\n",
        "def newton_method(x0, tol):\n",
        "    while abs(f(x0)) > tol:\n",
        "        x0 = x0 - f(x0) / f_derivative(x0)\n",
        "    return x0\n",
        "\n",
        "def find_intervals(a, b, step=0.1):\n",
        "    intervals = []\n",
        "    current_interval = [a, a + step]\n",
        "    while current_interval[1] <= b:\n",
        "        if f(current_interval[0]) * f(current_interval[1]) < 0:\n",
        "            intervals.append(current_interval.copy())\n",
        "        current_interval[0] += step\n",
        "        current_interval[1] += step\n",
        "    return intervals\n",
        "\n",
        "def separate_roots(intervals):\n",
        "    roots = []\n",
        "    for interval in intervals:\n",
        "        root = newton_method((interval[0] + interval[1]) / 2, tolerance)\n",
        "        roots.append(root)\n",
        "    return roots\n",
        "\n",
        "initial_guess = -10  # Початкове наближення для пошуку інтервалів\n",
        "tolerance = 0.0001    # Точність\n",
        "\n",
        "intervals = find_intervals(-10, 10)  # Знаходимо інтервали зміни знаку\n",
        "roots = separate_roots(intervals)    # Відокремлюємо корені за допомогою методу Ньютона\n",
        "\n",
        "print(\"Корені, отримані після відокремлення:\")\n",
        "for i, root in enumerate(roots):\n",
        "    print(f\"Корінь {i+1}: {root}\")\n"
      ],
      "metadata": {
        "id": "0l52QJM_5QvT"
      },
      "execution_count": null,
      "outputs": []
    }
  ]
}